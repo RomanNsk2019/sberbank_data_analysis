{
 "cells": [
  {
   "cell_type": "code",
   "execution_count": 1,
   "metadata": {},
   "outputs": [],
   "source": [
    "import pandas as pd "
   ]
  },
  {
   "cell_type": "code",
   "execution_count": 2,
   "metadata": {},
   "outputs": [],
   "source": [
    "data = pd.read_csv('./data/titanic/train.csv') "
   ]
  },
  {
   "cell_type": "code",
   "execution_count": 3,
   "metadata": {},
   "outputs": [
    {
     "data": {
      "text/html": [
       "<div>\n",
       "<style scoped>\n",
       "    .dataframe tbody tr th:only-of-type {\n",
       "        vertical-align: middle;\n",
       "    }\n",
       "\n",
       "    .dataframe tbody tr th {\n",
       "        vertical-align: top;\n",
       "    }\n",
       "\n",
       "    .dataframe thead th {\n",
       "        text-align: right;\n",
       "    }\n",
       "</style>\n",
       "<table border=\"1\" class=\"dataframe\">\n",
       "  <thead>\n",
       "    <tr style=\"text-align: right;\">\n",
       "      <th></th>\n",
       "      <th>PassengerId</th>\n",
       "      <th>Survived</th>\n",
       "      <th>Pclass</th>\n",
       "      <th>Name</th>\n",
       "      <th>Sex</th>\n",
       "      <th>Age</th>\n",
       "      <th>SibSp</th>\n",
       "      <th>Parch</th>\n",
       "      <th>Ticket</th>\n",
       "      <th>Fare</th>\n",
       "      <th>Cabin</th>\n",
       "      <th>Embarked</th>\n",
       "    </tr>\n",
       "  </thead>\n",
       "  <tbody>\n",
       "    <tr>\n",
       "      <th>0</th>\n",
       "      <td>1</td>\n",
       "      <td>0</td>\n",
       "      <td>3</td>\n",
       "      <td>Braund, Mr. Owen Harris</td>\n",
       "      <td>male</td>\n",
       "      <td>22.0</td>\n",
       "      <td>1</td>\n",
       "      <td>0</td>\n",
       "      <td>A/5 21171</td>\n",
       "      <td>7.2500</td>\n",
       "      <td>NaN</td>\n",
       "      <td>S</td>\n",
       "    </tr>\n",
       "    <tr>\n",
       "      <th>1</th>\n",
       "      <td>2</td>\n",
       "      <td>1</td>\n",
       "      <td>1</td>\n",
       "      <td>Cumings, Mrs. John Bradley (Florence Briggs Th...</td>\n",
       "      <td>female</td>\n",
       "      <td>38.0</td>\n",
       "      <td>1</td>\n",
       "      <td>0</td>\n",
       "      <td>PC 17599</td>\n",
       "      <td>71.2833</td>\n",
       "      <td>C85</td>\n",
       "      <td>C</td>\n",
       "    </tr>\n",
       "    <tr>\n",
       "      <th>2</th>\n",
       "      <td>3</td>\n",
       "      <td>1</td>\n",
       "      <td>3</td>\n",
       "      <td>Heikkinen, Miss. Laina</td>\n",
       "      <td>female</td>\n",
       "      <td>26.0</td>\n",
       "      <td>0</td>\n",
       "      <td>0</td>\n",
       "      <td>STON/O2. 3101282</td>\n",
       "      <td>7.9250</td>\n",
       "      <td>NaN</td>\n",
       "      <td>S</td>\n",
       "    </tr>\n",
       "    <tr>\n",
       "      <th>3</th>\n",
       "      <td>4</td>\n",
       "      <td>1</td>\n",
       "      <td>1</td>\n",
       "      <td>Futrelle, Mrs. Jacques Heath (Lily May Peel)</td>\n",
       "      <td>female</td>\n",
       "      <td>35.0</td>\n",
       "      <td>1</td>\n",
       "      <td>0</td>\n",
       "      <td>113803</td>\n",
       "      <td>53.1000</td>\n",
       "      <td>C123</td>\n",
       "      <td>S</td>\n",
       "    </tr>\n",
       "    <tr>\n",
       "      <th>4</th>\n",
       "      <td>5</td>\n",
       "      <td>0</td>\n",
       "      <td>3</td>\n",
       "      <td>Allen, Mr. William Henry</td>\n",
       "      <td>male</td>\n",
       "      <td>35.0</td>\n",
       "      <td>0</td>\n",
       "      <td>0</td>\n",
       "      <td>373450</td>\n",
       "      <td>8.0500</td>\n",
       "      <td>NaN</td>\n",
       "      <td>S</td>\n",
       "    </tr>\n",
       "  </tbody>\n",
       "</table>\n",
       "</div>"
      ],
      "text/plain": [
       "   PassengerId  Survived  Pclass  \\\n",
       "0            1         0       3   \n",
       "1            2         1       1   \n",
       "2            3         1       3   \n",
       "3            4         1       1   \n",
       "4            5         0       3   \n",
       "\n",
       "                                                Name     Sex   Age  SibSp  \\\n",
       "0                            Braund, Mr. Owen Harris    male  22.0      1   \n",
       "1  Cumings, Mrs. John Bradley (Florence Briggs Th...  female  38.0      1   \n",
       "2                             Heikkinen, Miss. Laina  female  26.0      0   \n",
       "3       Futrelle, Mrs. Jacques Heath (Lily May Peel)  female  35.0      1   \n",
       "4                           Allen, Mr. William Henry    male  35.0      0   \n",
       "\n",
       "   Parch            Ticket     Fare Cabin Embarked  \n",
       "0      0         A/5 21171   7.2500   NaN        S  \n",
       "1      0          PC 17599  71.2833   C85        C  \n",
       "2      0  STON/O2. 3101282   7.9250   NaN        S  \n",
       "3      0            113803  53.1000  C123        S  \n",
       "4      0            373450   8.0500   NaN        S  "
      ]
     },
     "execution_count": 3,
     "metadata": {},
     "output_type": "execute_result"
    }
   ],
   "source": [
    "data.head(5)\n",
    "\n"
   ]
  },
  {
   "cell_type": "code",
   "execution_count": 4,
   "metadata": {},
   "outputs": [
    {
     "data": {
      "text/plain": [
       "(891, 12)"
      ]
     },
     "execution_count": 4,
     "metadata": {},
     "output_type": "execute_result"
    }
   ],
   "source": [
    "data.shape"
   ]
  },
  {
   "cell_type": "code",
   "execution_count": 6,
   "metadata": {},
   "outputs": [],
   "source": [
    "surv=data[(data['Survived']==1)] # выжившие\n"
   ]
  },
  {
   "cell_type": "code",
   "execution_count": 7,
   "metadata": {},
   "outputs": [],
   "source": [
    "nosurv=data[(data['Survived']==0)] # погибшие\n"
   ]
  },
  {
   "cell_type": "code",
   "execution_count": 9,
   "metadata": {},
   "outputs": [
    {
     "name": "stdout",
     "output_type": "stream",
     "text": [
      "всего было на Титанике 891 человек\n",
      "выжило 342 человека\n",
      "погибло 549 человек\n",
      "процент выживших 38.4 %\n"
     ]
    }
   ],
   "source": [
    "d=data.shape[0]\n",
    "s=surv.shape[0]\n",
    "n=nosurv.shape[0]\n",
    "print(\"всего было на Титанике\",d,\"человек\")\n",
    "print(\"выжило\",s,\"человека\")\n",
    "print(\"погибло\",n,\"человек\")\n",
    "print(\"процент выживших\",round(s/d*100,1),\"%\")\n",
    "\n"
   ]
  },
  {
   "cell_type": "code",
   "execution_count": 31,
   "metadata": {},
   "outputs": [
    {
     "name": "stdout",
     "output_type": "stream",
     "text": [
      "из выживших 68.1 % - женщины,  31.9 % - мужчины\n"
     ]
    }
   ],
   "source": [
    "s_m=surv[\"Sex\"][(surv['Sex'] == 'male')].count() \n",
    "s_f=surv[\"Sex\"][(surv['Sex'] == 'female')].count() \n",
    "print(\"из выживших\",round(s_f/s*100,1),\"% - женщины, \",round(s_m/s*100,1),\"% - мужчины\")"
   ]
  },
  {
   "cell_type": "code",
   "execution_count": 38,
   "metadata": {},
   "outputs": [
    {
     "name": "stdout",
     "output_type": "stream",
     "text": [
      "из выживших 6.7 % - дети от 10 до 18 лет\n",
      "из выживших 11.1 % - дети до 10 лет\n",
      "из погибших 9.5 % - дети до 18 лет\n"
     ]
    }
   ],
   "source": [
    "s_ch18=surv[\"Age\"][(surv['Age'] < 18)].count() \n",
    "s_ch10=surv[\"Age\"][(surv['Age'] < 10)].count() \n",
    "ns_ch18=nosurv[\"Age\"][(nosurv['Age'] < 18)].count() \n",
    "print(\"из выживших\",round((s_ch18-s_ch10)/s*100,1),\"% - дети от 10 до 18 лет\")\n",
    "print(\"из выживших\",round(s_ch10/s*100,1),\"% - дети до 10 лет\")\n",
    "print(\"из погибших\",round(ns_ch18/n*100,1),\"% - дети до 18 лет\")"
   ]
  },
  {
   "cell_type": "code",
   "execution_count": 37,
   "metadata": {},
   "outputs": [
    {
     "name": "stdout",
     "output_type": "stream",
     "text": [
      "из выживших 39.8 % - пассажиры 1 класса, 25.4 % - 2 кл., 34.8 % - 3 кл.\n",
      "из погибших 14.6 % - пассажиры 1 класса, 17.7 % - 2 кл., 67.8 % - 3 кл.\n"
     ]
    }
   ],
   "source": [
    "s_cl1=surv[\"Pclass\"][(surv['Pclass'] ==1)].count() \n",
    "s_cl2=surv[\"Pclass\"][(surv['Pclass'] ==2)].count() \n",
    "s_cl3=surv[\"Pclass\"][(surv['Pclass'] ==3)].count() \n",
    "print(\"из выживших\",round(s_cl1/s*100,1),\"% - пассажиры 1 класса,\",round(s_cl2/s*100,1),\"% - 2 кл.,\",round(s_cl3/s*100,1),\"% - 3 кл.\")\n",
    "n_cl1=nosurv[\"Pclass\"][(nosurv['Pclass'] ==1)].count() \n",
    "n_cl2=nosurv[\"Pclass\"][(nosurv['Pclass'] ==2)].count() \n",
    "n_cl3=nosurv[\"Pclass\"][(nosurv['Pclass'] ==3)].count() \n",
    "print(\"из погибших\",round(n_cl1/n*100,1),\"% - пассажиры 1 класса,\",round(n_cl2/n*100,1),\"% - 2 кл.,\",round(n_cl3/n*100,1),\"% - 3 кл.\")"
   ]
  },
  {
   "cell_type": "code",
   "execution_count": 40,
   "metadata": {},
   "outputs": [
    {
     "name": "stdout",
     "output_type": "stream",
     "text": [
      "из приведенной статистики видно, что 2/3 погибших пассажиров было из 3 класса. Больше был шанс выжить у детей и женщин\n"
     ]
    }
   ],
   "source": [
    "print(\"из приведенной статистики видно, что 2/3 погибших пассажиров было из 3 класса. Больше был шанс выжить у детей и женщин\")"
   ]
  },
  {
   "cell_type": "code",
   "execution_count": null,
   "metadata": {},
   "outputs": [],
   "source": []
  }
 ],
 "metadata": {
  "kernelspec": {
   "display_name": "Python 3",
   "language": "python",
   "name": "python3"
  },
  "language_info": {
   "codemirror_mode": {
    "name": "ipython",
    "version": 3
   },
   "file_extension": ".py",
   "mimetype": "text/x-python",
   "name": "python",
   "nbconvert_exporter": "python",
   "pygments_lexer": "ipython3",
   "version": "3.7.6"
  }
 },
 "nbformat": 4,
 "nbformat_minor": 4
}
